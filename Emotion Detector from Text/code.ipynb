{
 "cells": [
  {
   "cell_type": "code",
   "execution_count": 1,
   "metadata": {},
   "outputs": [],
   "source": [
    "import csv\n",
    "from sklearn.feature_extraction.text import TfidfVectorizer\n",
    "from sklearn.svm import LinearSVC"
   ]
  },
  {
   "cell_type": "code",
   "execution_count": 2,
   "metadata": {},
   "outputs": [],
   "source": [
    "# take training data from csv files\n",
    "\n",
    "data = [line.strip() for line in open(\"G:\\ML\\Emotion Analysis from Text\\happy.csv\", 'r')]\n",
    "hr = [text for text in data]\n",
    "\n",
    "data = [line.strip() for line in open(\"G:\\ML\\Emotion Analysis from Text\\sad.csv\", 'r')]\n",
    "sr = [text for text in data]\n",
    "\n",
    "train_data = hr + sr"
   ]
  },
  {
   "cell_type": "code",
   "execution_count": 3,
   "metadata": {},
   "outputs": [],
   "source": [
    "# generating labels for the traing data\n",
    "\n",
    "lbl1 = [\"happy\"] * 5000\n",
    "lbl2 = [\"sad\"] * 5000\n",
    "\n",
    "train_labels = lbl1+lbl2"
   ]
  },
  {
   "cell_type": "code",
   "execution_count": 4,
   "metadata": {},
   "outputs": [
    {
     "data": {
      "text/plain": [
       "LinearSVC(C=1.0, class_weight=None, dual=True, fit_intercept=True,\n",
       "     intercept_scaling=1, loss='squared_hinge', max_iter=1000,\n",
       "     multi_class='ovr', penalty='l2', random_state=None, tol=0.0001,\n",
       "     verbose=0)"
      ]
     },
     "execution_count": 4,
     "metadata": {},
     "output_type": "execute_result"
    }
   ],
   "source": [
    "# Representation of the training data using TF-IDF\n",
    "vectorizer = TfidfVectorizer()\n",
    "vectorised_train_data = vectorizer.fit_transform(train_data)\n",
    "\n",
    "# Train the classifier given the training data\n",
    "classifier = LinearSVC()\n",
    "classifier.fit(vectorised_train_data, train_labels)"
   ]
  },
  {
   "cell_type": "code",
   "execution_count": 5,
   "metadata": {},
   "outputs": [
    {
     "name": "stdout",
     "output_type": "stream",
     "text": [
      "Enter text here: I love using Github!\n"
     ]
    }
   ],
   "source": [
    "# taking user input as test data\n",
    "test_data = input('Enter text here: ')"
   ]
  },
  {
   "cell_type": "code",
   "execution_count": 6,
   "metadata": {},
   "outputs": [],
   "source": [
    "# converting test data from string to list\n",
    "test_data = [test_data]"
   ]
  },
  {
   "cell_type": "code",
   "execution_count": 7,
   "metadata": {},
   "outputs": [
    {
     "name": "stdout",
     "output_type": "stream",
     "text": [
      "Entered test represents class: happy\n"
     ]
    }
   ],
   "source": [
    "# Representation of the test data using TF-IDF\n",
    "vectorised_test_data = vectorizer.transform(test_data)\n",
    "\n",
    "# Predict the labels for the test data\n",
    "predict = classifier.predict(vectorised_test_data)[0]\n",
    "\n",
    "print('Entered test represents class: ' + predict)"
   ]
  }
 ],
 "metadata": {
  "kernelspec": {
   "display_name": "Python 3",
   "language": "python",
   "name": "python3"
  },
  "language_info": {
   "codemirror_mode": {
    "name": "ipython",
    "version": 3
   },
   "file_extension": ".py",
   "mimetype": "text/x-python",
   "name": "python",
   "nbconvert_exporter": "python",
   "pygments_lexer": "ipython3",
   "version": "3.6.2"
  }
 },
 "nbformat": 4,
 "nbformat_minor": 2
}
